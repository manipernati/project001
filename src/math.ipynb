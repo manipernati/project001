{
 "cells": [
  {
   "cell_type": "markdown",
   "id": "bd0a08e1",
   "metadata": {},
   "source": [
    "# first\n"
   ]
  },
  {
   "cell_type": "code",
   "execution_count": 2,
   "id": "de3fbe89",
   "metadata": {},
   "outputs": [
    {
     "name": "stdout",
     "output_type": "stream",
     "text": [
      "The square of 6.0 is 36.0\n",
      "The square of 6.0 is 36.0\n"
     ]
    }
   ],
   "source": [
    "num = float(input(\"Enter a number: \"))\n",
    "\n",
    "square = num ** 2\n",
    "\n",
    "print(f\"The square of {num} is {square}\")\n",
    "print(f\"The square of {num} is {square}\")\n"
   ]
  }
 ],
 "metadata": {
  "kernelspec": {
   "display_name": "Python 3 (ipykernel)",
   "language": "python",
   "name": "python3"
  },
  "language_info": {
   "codemirror_mode": {
    "name": "ipython",
    "version": 3
   },
   "file_extension": ".py",
   "mimetype": "text/x-python",
   "name": "python",
   "nbconvert_exporter": "python",
   "pygments_lexer": "ipython3",
   "version": "3.12.3"
  }
 },
 "nbformat": 4,
 "nbformat_minor": 5
}
